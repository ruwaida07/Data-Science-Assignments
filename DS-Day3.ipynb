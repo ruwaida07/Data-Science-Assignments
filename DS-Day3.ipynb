{
  "nbformat": 4,
  "nbformat_minor": 0,
  "metadata": {
    "colab": {
      "name": "DATA SCIENCE DAY 3",
      "provenance": [],
      "collapsed_sections": []
    },
    "kernelspec": {
      "name": "python3",
      "display_name": "Python 3"
    }
  },
  "cells": [
    {
      "cell_type": "code",
      "metadata": {
        "id": "3_hFlnZFdd6S",
        "outputId": "6b8dc71d-9e8a-4307-f59f-ca39c560b0e4",
        "colab": {
          "base_uri": "https://localhost:8080/"
        }
      },
      "source": [
        "#Question1\n",
        "\n",
        "import numpy as np\n",
        "np.arange(start=2, stop=50, step=3)"
      ],
      "execution_count": null,
      "outputs": [
        {
          "output_type": "execute_result",
          "data": {
            "text/plain": [
              "array([ 2,  5,  8, 11, 14, 17, 20, 23, 26, 29, 32, 35, 38, 41, 44, 47])"
            ]
          },
          "metadata": {
            "tags": []
          },
          "execution_count": 25
        }
      ]
    },
    {
      "cell_type": "code",
      "metadata": {
        "id": "XYBHUS6IddrX",
        "outputId": "9775259d-c95c-4cf8-978f-3e4b0eb30a7b",
        "colab": {
          "base_uri": "https://localhost:8080/"
        }
      },
      "source": [
        "#Question 3 \n",
        "\n",
        "import numpy as np\n",
        "# Creating array object\n",
        "arr = np.array( [[ 1, 2, 3],[ 4, 2, 5]] )\n",
        " \n",
        "# Printing type of arr object\n",
        "print(\"Array is of type: \", type(arr))\n",
        " \n",
        "# Printing array dimensions (axes)\n",
        "print(\"No. of dimensions: \", arr.ndim)\n",
        " \n",
        "# Printing shape of array\n",
        "print(\"Shape of array: \", arr.shape)\n",
        " \n",
        "# Printing size (total number of elements) of array\n",
        "print(\"Size of array: \", arr.size)\n",
        " \n",
        "# Printing type of elements in array\n",
        "print(\"Array stores elements of type: \", arr.dtype)"
      ],
      "execution_count": null,
      "outputs": [
        {
          "output_type": "stream",
          "text": [
            "Array is of type:  <class 'numpy.ndarray'>\n",
            "No. of dimensions:  2\n",
            "Shape of array:  (2, 3)\n",
            "Size of array:  6\n",
            "Array stores elements of type:  int64\n"
          ],
          "name": "stdout"
        }
      ]
    },
    {
      "cell_type": "code",
      "metadata": {
        "id": "HT9wo-Mz9L99",
        "outputId": "38e637c4-0680-4070-cc7f-3c60b8a04912",
        "colab": {
          "base_uri": "https://localhost:8080/"
        }
      },
      "source": [
        "#Question 2\n",
        "\n",
        "import numpy as np\n",
        "\n",
        "x = np.array([[1, 2], [3, 4]])\n",
        "y = np.array([[5, 6]])\n",
        "np.concatenate((x, y), axis=0)\n",
        "#array([[1, 2],[3, 4], [5, 6]])"
      ],
      "execution_count": null,
      "outputs": [
        {
          "output_type": "execute_result",
          "data": {
            "text/plain": [
              "array([[1, 2],\n",
              "       [3, 4],\n",
              "       [5, 6]])"
            ]
          },
          "metadata": {
            "tags": []
          },
          "execution_count": 10
        }
      ]
    },
    {
      "cell_type": "code",
      "metadata": {
        "id": "6Biw2CiECZFd",
        "outputId": "1973e9ea-c6a1-4b6f-db1b-f23a6abe2474",
        "colab": {
          "base_uri": "https://localhost:8080/"
        }
      },
      "source": [
        "#Question 4\n",
        "\n",
        "arr = np.array([0, 1, 2, 3, 4, 5, 6, 7, 8, 9])\n",
        "arr_2d = np.reshape(arr, (2, 5))\n",
        "# Modify the 2D numpy array (View object)\n",
        "arr_2d[0][0] = 22\n",
        "print('1D Numpy array:')\n",
        "print(arr)\n",
        "print('2D Numpy array:')\n",
        "print(arr_2d)"
      ],
      "execution_count": null,
      "outputs": [
        {
          "output_type": "stream",
          "text": [
            "1D Numpy array:\n",
            "[22  1  2  3  4  5  6  7  8  9]\n",
            "2D Numpy array:\n",
            "[[22  1  2  3  4]\n",
            " [ 5  6  7  8  9]]\n"
          ],
          "name": "stdout"
        }
      ]
    },
    {
      "cell_type": "code",
      "metadata": {
        "id": "QV8jRA0SCxSL",
        "outputId": "e2c9cb77-1120-4e3e-a608-751cc3eb088b",
        "colab": {
          "base_uri": "https://localhost:8080/"
        }
      },
      "source": [
        "#Question 5\n",
        "\n",
        "## Vertical Stack\n",
        "import numpy as np\n",
        "f = np.array([1,2,3])\n",
        "g = np.array([4,5,6])\n",
        "i = np.array([7,8,9])\n",
        "print('Vertical Append: \\n ' , np.vstack((f, g,i)))"
      ],
      "execution_count": null,
      "outputs": [
        {
          "output_type": "stream",
          "text": [
            "Vertical Append: \n",
            "  [[1 2 3]\n",
            " [4 5 6]\n",
            " [7 8 9]]\n"
          ],
          "name": "stdout"
        }
      ]
    },
    {
      "cell_type": "code",
      "metadata": {
        "id": "NCBIWE3eEJnm",
        "outputId": "421888a9-438f-46c9-c720-e89c58fb10f1",
        "colab": {
          "base_uri": "https://localhost:8080/"
        }
      },
      "source": [
        "#Question 6\n",
        "\n",
        "a_list = [1, 2, 3 ,4, 5]\n",
        "a_set = set(a_list)\n",
        "number_of_unique_values = len(a_set)\n",
        "print(number_of_unique_values)"
      ],
      "execution_count": null,
      "outputs": [
        {
          "output_type": "stream",
          "text": [
            "5\n"
          ],
          "name": "stdout"
        }
      ]
    }
  ]
}